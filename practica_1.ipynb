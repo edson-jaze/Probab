{
  "nbformat": 4,
  "nbformat_minor": 0,
  "metadata": {
    "colab": {
      "provenance": [],
      "authorship_tag": "ABX9TyO5WB/qcIisewY9g0k71pxm",
      "include_colab_link": true
    },
    "kernelspec": {
      "name": "python3",
      "display_name": "Python 3"
    },
    "language_info": {
      "name": "python"
    }
  },
  "cells": [
    {
      "cell_type": "markdown",
      "metadata": {
        "id": "view-in-github",
        "colab_type": "text"
      },
      "source": [
        "<a href=\"https://colab.research.google.com/github/edson-jaze/Probab/blob/main/practica_1.ipynb\" target=\"_parent\"><img src=\"https://colab.research.google.com/assets/colab-badge.svg\" alt=\"Open In Colab\"/></a>"
      ]
    },
    {
      "cell_type": "code",
      "execution_count": 24,
      "metadata": {
        "colab": {
          "base_uri": "https://localhost:8080/",
          "height": 715
        },
        "id": "LanfnJ_ZvTWN",
        "outputId": "59b371b6-5d4c-4d99-9915-06f1057dad35"
      },
      "outputs": [
        {
          "output_type": "stream",
          "name": "stdout",
          "text": [
            "{96, 65, 100, 70, 73, 45, 80, 20, 90, 95}\n",
            "73.4\n",
            "73.4\n",
            "76.5\n",
            "96\n",
            "[96, 65, 100, 70, 73, 45, 80, 20, 90, 95]\n",
            "[15.1, 17.2, 14.69, 13.27, 22.15, 18.71, 19.15, 20.65, 15.1, 17.2]\n",
            "el tiempo prom de los corredores es=> 17.322\n",
            "la mediana es=> 17.2\n",
            "la moda de los tiempos es=> 15.1\n",
            "la moda de los tiempos es=> [15.1, 17.2]\n",
            "[58.18, 69.69, 73.64, 66.99, 97.46, 87.94, 63.5, 94.69, 77.91, 58.73, 93.5, 85.55, 68.46, 52.11, 58.21, 94.93, 75.31, 86.39, 55.48, 79.96, 55.2, 69.16, 56.21, 54.13, 51.91, 95.24, 84.49, 52.55, 97.24, 65.96, 86.37, 64.36, 73.23, 57.21, 86.0, 83.22, 92.76, 89.05, 56.16, 70.01, 66.98, 69.58, 64.62, 88.33, 94.81, 57.52, 64.27, 96.1, 67.53, 54.71, 70.77, 67.44, 82.53, 89.17, 69.13, 53.13, 99.93, 80.55, 54.11, 94.27, 59.66, 92.93, 63.62, 74.4, 95.49, 76.19, 91.5, 96.76, 60.23, 67.34, 86.81, 54.61, 72.82, 93.87, 78.5, 78.37, 70.12, 68.11, 99.34, 77.98, 57.93, 84.13, 62.78, 95.74, 59.17, 59.65, 52.01, 88.78, 97.93, 54.22, 99.17, 94.45, 86.78, 52.4, 61.87, 76.27, 63.67, 67.05, 68.57, 95.67]\n",
            "[76.6, 98.29, 80.52, 97.53, 65.6, 85.13, 65.33, 88.72, 53.11, 50.21, 67.74, 93.63, 97.73, 78.31, 82.98, 82.81, 94.33, 67.68, 83.97, 80.16, 58.55, 60.02, 91.44, 97.16, 91.67, 79.38, 78.52, 73.45, 52.23, 94.05, 63.03, 93.32, 86.05, 51.52, 57.83, 54.32, 86.9, 92.52, 53.79, 75.85, 87.17, 87.25, 69.32, 72.29, 86.47, 80.37, 95.23, 60.31, 64.36, 84.24, 60.74, 88.36, 98.75, 70.87, 66.41, 59.18, 56.87, 74.97, 83.77, 51.87, 92.29, 90.68, 81.95, 74.28, 72.11, 62.55, 74.26, 96.35, 68.03, 79.17, 66.62, 56.4, 50.15, 53.76, 60.22, 61.16, 75.37, 77.28, 84.31, 78.51, 68.05, 61.95, 62.39, 81.2, 71.92, 59.48, 85.44, 82.3, 67.91, 60.08, 80.41, 67.56, 68.83, 96.61, 78.66, 94.03, 55.39, 60.4, 55.09, 80.08]\n"
          ]
        },
        {
          "output_type": "execute_result",
          "data": {
            "text/plain": [
              "Text(0.5, 1.0, 'produccion de fab1')"
            ]
          },
          "metadata": {},
          "execution_count": 24
        },
        {
          "output_type": "display_data",
          "data": {
            "text/plain": [
              "<Figure size 640x480 with 1 Axes>"
            ],
            "image/png": "[encoded data removed]"
          },
          "metadata": {}
        }
      ],
      "source": [
        "from statistics import*\n",
        "import random\n",
        "import matplotlib.pyplot as plt\n",
        "\n",
        "grupoa = {70,70,65,90,100,95,45,80,73,20,100,96}\n",
        "print(grupoa)\n",
        "\n",
        "promedio = sum(grupoa) / len(grupoa)\n",
        "print(promedio)\n",
        "\n",
        "promedio2 = mean(grupoa)\n",
        "print(promedio2)\n",
        "\n",
        "mediana = median(grupoa)\n",
        "print(mediana)\n",
        "\n",
        "moda= mode(grupoa)\n",
        "print(moda)\n",
        "\n",
        "moda2= multimode(grupoa)\n",
        "print(moda2)\n",
        "\n",
        "\n",
        "tiempos100mts = [15.10,17.20,14.69,13.27,22.15,18.71,19.15,20.65,15.10,17.20]\n",
        "print(tiempos100mts)\n",
        "print(\"el tiempo prom de los corredores es=>\",mean(tiempos100mts))\n",
        "mediana = median(tiempos100mts)\n",
        "print(\"la mediana es=>\",mediana)\n",
        "mod= mode(tiempos100mts)\n",
        "print(\"la moda de los tiempos es=>\",mod)\n",
        "mod2= multimode(tiempos100mts)\n",
        "print(\"la moda de los tiempos es=>\",mod2)\n",
        "\n",
        "fabrica1 = []\n",
        "\n",
        "for i in range(100):\n",
        "\n",
        "    numero_aleatorio = round( random. uniform(50, 100), 2 )\n",
        "    fabrica1.append(numero_aleatorio)\n",
        "print(fabrica1)\n",
        "\n",
        "fabrica2 = []\n",
        "\n",
        "for i in range(100):\n",
        "\n",
        "    numero_aleatorio = round( random. uniform(50, 100), 2 )\n",
        "    fabrica2.append(numero_aleatorio)\n",
        "print(fabrica2)\n",
        "\n",
        "plt.hist(fabrica1)\n",
        "plt.title(\"produccion de fab1\")\n",
        "\n"
      ]
    },
    {
      "cell_type": "markdown",
      "source": [],
      "metadata": {
        "id": "oAG4-KRq5YWH"
      }
    }
  ]
}